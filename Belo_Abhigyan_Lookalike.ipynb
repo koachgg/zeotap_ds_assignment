{
  "nbformat": 4,
  "nbformat_minor": 0,
  "metadata": {
    "colab": {
      "provenance": []
    },
    "kernelspec": {
      "name": "python3",
      "display_name": "Python 3"
    },
    "language_info": {
      "name": "python"
    }
  },
  "cells": [
    {
      "cell_type": "code",
      "execution_count": 2,
      "metadata": {
        "id": "QdGpXeBC81LD"
      },
      "outputs": [],
      "source": [
        "import pandas as pd\n",
        "from sklearn.preprocessing import StandardScaler\n",
        "from sklearn.metrics.pairwise import cosine_similarity\n",
        "\n",
        "# Load and prepare customer features\n",
        "customers['SignupDate'] = pd.to_datetime(customers['SignupDate'])\n",
        "current_date = pd.to_datetime('today')\n",
        "customers['Tenure'] = (current_date - customers['SignupDate']).dt.days\n",
        "\n",
        "# Transaction History\n",
        "transaction_features = transactions.groupby('CustomerID').agg(\n",
        "    TotalSpend=pd.NamedAgg(column='TotalValue', aggfunc='sum'),\n",
        "    PurchaseFrequency=pd.NamedAgg(column='TransactionID', aggfunc='nunique'),\n",
        "    AvgOrderValue=pd.NamedAgg(column='TotalValue', aggfunc='mean')\n",
        ").reset_index()\n",
        "\n",
        "# Merge with Customer Data\n",
        "customer_features = customers.merge(transaction_features, on='CustomerID', how='left')\n",
        "customer_features = pd.get_dummies(customer_features, columns=['Region'])\n",
        "customer_features = customer_features.fillna(0)\n",
        "\n",
        "# Scale features and compute similarity\n",
        "features = customer_features.drop(columns=['CustomerID', 'CustomerName', 'SignupDate'])\n",
        "scaler = StandardScaler()\n",
        "scaled_features = scaler.fit_transform(features)\n",
        "similarity_matrix = cosine_similarity(scaled_features)\n",
        "\n",
        "# Generate lookalike customers\n",
        "lookalike_map = {}\n",
        "target_customers = [f'C{str(i).zfill(4)}' for i in range(1, 21)]\n",
        "\n",
        "for cust_id in target_customers:\n",
        "    idx = customer_features[customer_features['CustomerID'] == cust_id].index[0]\n",
        "    scores = list(enumerate(similarity_matrix[idx]))\n",
        "    sorted_scores = sorted(scores, key=lambda x: x[1], reverse=True)[1:4]\n",
        "    lookalike_map[cust_id] = [(customer_features.iloc[i]['CustomerID'], score) for i, score in sorted_scores]\n",
        "\n",
        "# Save results\n",
        "lookalike_df = pd.DataFrame(lookalike_map.items(), columns=['CustomerID', 'Lookalikes'])\n",
        "lookalike_df.to_csv('belo_abhigyan_Lookalike.csv', index=False)"
      ]
    },
    {
      "cell_type": "code",
      "source": [],
      "metadata": {
        "id": "j8zMZsAh8-8p"
      },
      "execution_count": null,
      "outputs": []
    }
  ]
}